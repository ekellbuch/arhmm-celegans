{
 "cells": [
  {
   "cell_type": "code",
   "execution_count": 1,
   "metadata": {},
   "outputs": [],
   "source": [
    "%load_ext autoreload\n",
    "%autoreload 2\n",
    "\n",
    "import os\n",
    "import re\n",
    "\n",
    "import numpy as np\n",
    "import h5py\n",
    "\n",
    "import preprocessing as preworm"
   ]
  },
  {
   "cell_type": "code",
   "execution_count": 7,
   "metadata": {},
   "outputs": [
    {
     "name": "stdout",
     "output_type": "stream",
     "text": [
      "results_strains\n"
     ]
    }
   ],
   "source": [
    "# Load list of files with worm characteristics\n",
    "dir_dataraw = 'data'\n",
    "dir_worm_file_list = os.path.join('results_strains', 'worm_files_lists')\n",
    "dir_datastore = os.path.split(dir_worm_file_list)[0]"
   ]
  },
  {
   "cell_type": "code",
   "execution_count": 3,
   "metadata": {
    "collapsed": true
   },
   "outputs": [],
   "source": [
    "strain_types = ['AQ2947','CB4852','CB4853','ED3017','ED3021','ED3054','N2']\n",
    "strain_type = strain_types [6]"
   ]
  },
  {
   "cell_type": "code",
   "execution_count": 4,
   "metadata": {},
   "outputs": [
    {
     "name": "stdout",
     "output_type": "stream",
     "text": [
      "Files to exclude\n",
      "[ 86 218 219]\n"
     ]
    }
   ],
   "source": [
    "fname_in = os.path.join(dir_worm_file_list, 'worm_file_list_'+strain_type+'.npz')\n",
    "data_files_fps = np.load(fname_in)['data_files_fps']\n",
    "data_files_fps = np.load(fname_in)['data_files_fps']\n",
    "\n",
    "remove_file = np.load(fname_in)['remove_file']\n",
    "if any(remove_file):\n",
    "    print('Files to exclude')\n",
    "    print(remove_file)"
   ]
  },
  {
   "cell_type": "code",
   "execution_count": 5,
   "metadata": {
    "collapsed": true
   },
   "outputs": [],
   "source": [
    "# Pick nine worms at random\n",
    "if strain_type=='N2': # paper_worms\n",
    "    good_worms = [241, 242, 262, 264, 271, 272, 274, 275, 281]\n",
    "    worm_files =  data_files_fps[good_worms]\n",
    "else:\n",
    "    worm_files = data_files_fps[:3]"
   ]
  },
  {
   "cell_type": "code",
   "execution_count": 6,
   "metadata": {},
   "outputs": [
    {
     "ename": "OSError",
     "evalue": "Unable to open file (Unable to open file: name = 'data/n2/on_food/xx/30m_wait/r/tracker_3/2010-11-04___11_16_00/n2 on food l_2010_11_04__11_16___3___3_features.mat', errno = 2, error message = 'no such file or directory', flags = 0, o_flags = 0)",
     "output_type": "error",
     "traceback": [
      "\u001b[0;31m---------------------------------------------------------------------------\u001b[0m",
      "\u001b[0;31mOSError\u001b[0m                                   Traceback (most recent call last)",
      "\u001b[0;32m<ipython-input-6-f14481666483>\u001b[0m in \u001b[0;36m<module>\u001b[0;34m()\u001b[0m\n\u001b[1;32m      2\u001b[0m \u001b[0mworm_files_out\u001b[0m \u001b[0;34m=\u001b[0m \u001b[0mnp\u001b[0m\u001b[0;34m.\u001b[0m\u001b[0masarray\u001b[0m\u001b[0;34m(\u001b[0m\u001b[0;34m[\u001b[0m\u001b[0;32mNone\u001b[0m\u001b[0;34m]\u001b[0m\u001b[0;34m*\u001b[0m\u001b[0mlen\u001b[0m\u001b[0;34m(\u001b[0m\u001b[0mworm_files\u001b[0m\u001b[0;34m)\u001b[0m\u001b[0;34m)\u001b[0m\u001b[0;34m\u001b[0m\u001b[0m\n\u001b[1;32m      3\u001b[0m \u001b[0;32mfor\u001b[0m \u001b[0mii\u001b[0m\u001b[0;34m,\u001b[0m \u001b[0mmyfile\u001b[0m \u001b[0;32min\u001b[0m \u001b[0menumerate\u001b[0m\u001b[0;34m(\u001b[0m\u001b[0mworm_files\u001b[0m\u001b[0;34m)\u001b[0m\u001b[0;34m:\u001b[0m\u001b[0;34m\u001b[0m\u001b[0m\n\u001b[0;32m----> 4\u001b[0;31m     \u001b[0mf\u001b[0m \u001b[0;34m=\u001b[0m \u001b[0mh5py\u001b[0m\u001b[0;34m.\u001b[0m\u001b[0mFile\u001b[0m\u001b[0;34m(\u001b[0m\u001b[0mos\u001b[0m\u001b[0;34m.\u001b[0m\u001b[0mpath\u001b[0m\u001b[0;34m.\u001b[0m\u001b[0mjoin\u001b[0m\u001b[0;34m(\u001b[0m\u001b[0mdir_dataraw\u001b[0m\u001b[0;34m,\u001b[0m\u001b[0mmyfile\u001b[0m\u001b[0;34m)\u001b[0m\u001b[0;34m,\u001b[0m\u001b[0;34m'r'\u001b[0m\u001b[0;34m)\u001b[0m\u001b[0;34m\u001b[0m\u001b[0m\n\u001b[0m\u001b[1;32m      5\u001b[0m     \u001b[0mworm_files_out\u001b[0m\u001b[0;34m[\u001b[0m\u001b[0mii\u001b[0m\u001b[0;34m]\u001b[0m \u001b[0;34m=\u001b[0m\u001b[0mre\u001b[0m\u001b[0;34m.\u001b[0m\u001b[0msub\u001b[0m\u001b[0;34m(\u001b[0m\u001b[0;34m'/'\u001b[0m\u001b[0;34m,\u001b[0m\u001b[0;34m'--'\u001b[0m\u001b[0;34m,\u001b[0m\u001b[0mmyfile\u001b[0m\u001b[0;34m.\u001b[0m\u001b[0mstrip\u001b[0m\u001b[0;34m(\u001b[0m\u001b[0;34m)\u001b[0m\u001b[0;34m)\u001b[0m\u001b[0;34m\u001b[0m\u001b[0m\n\u001b[1;32m      6\u001b[0m     \u001b[0mprint\u001b[0m\u001b[0;34m(\u001b[0m\u001b[0;34m'{}'\u001b[0m\u001b[0;34m.\u001b[0m\u001b[0mformat\u001b[0m\u001b[0;34m(\u001b[0m\u001b[0mworm_files_out\u001b[0m\u001b[0;34m[\u001b[0m\u001b[0mii\u001b[0m\u001b[0;34m]\u001b[0m\u001b[0;34m)\u001b[0m\u001b[0;34m)\u001b[0m\u001b[0;34m\u001b[0m\u001b[0m\n",
      "\u001b[0;32m/Users/scott/anaconda3/lib/python3.5/site-packages/h5py/_hl/files.py\u001b[0m in \u001b[0;36m__init__\u001b[0;34m(self, name, mode, driver, libver, userblock_size, swmr, **kwds)\u001b[0m\n\u001b[1;32m    269\u001b[0m \u001b[0;34m\u001b[0m\u001b[0m\n\u001b[1;32m    270\u001b[0m                 \u001b[0mfapl\u001b[0m \u001b[0;34m=\u001b[0m \u001b[0mmake_fapl\u001b[0m\u001b[0;34m(\u001b[0m\u001b[0mdriver\u001b[0m\u001b[0;34m,\u001b[0m \u001b[0mlibver\u001b[0m\u001b[0;34m,\u001b[0m \u001b[0;34m**\u001b[0m\u001b[0mkwds\u001b[0m\u001b[0;34m)\u001b[0m\u001b[0;34m\u001b[0m\u001b[0m\n\u001b[0;32m--> 271\u001b[0;31m                 \u001b[0mfid\u001b[0m \u001b[0;34m=\u001b[0m \u001b[0mmake_fid\u001b[0m\u001b[0;34m(\u001b[0m\u001b[0mname\u001b[0m\u001b[0;34m,\u001b[0m \u001b[0mmode\u001b[0m\u001b[0;34m,\u001b[0m \u001b[0muserblock_size\u001b[0m\u001b[0;34m,\u001b[0m \u001b[0mfapl\u001b[0m\u001b[0;34m,\u001b[0m \u001b[0mswmr\u001b[0m\u001b[0;34m=\u001b[0m\u001b[0mswmr\u001b[0m\u001b[0;34m)\u001b[0m\u001b[0;34m\u001b[0m\u001b[0m\n\u001b[0m\u001b[1;32m    272\u001b[0m \u001b[0;34m\u001b[0m\u001b[0m\n\u001b[1;32m    273\u001b[0m                 \u001b[0;32mif\u001b[0m \u001b[0mswmr_support\u001b[0m\u001b[0;34m:\u001b[0m\u001b[0;34m\u001b[0m\u001b[0m\n",
      "\u001b[0;32m/Users/scott/anaconda3/lib/python3.5/site-packages/h5py/_hl/files.py\u001b[0m in \u001b[0;36mmake_fid\u001b[0;34m(name, mode, userblock_size, fapl, fcpl, swmr)\u001b[0m\n\u001b[1;32m     99\u001b[0m         \u001b[0;32mif\u001b[0m \u001b[0mswmr\u001b[0m \u001b[0;32mand\u001b[0m \u001b[0mswmr_support\u001b[0m\u001b[0;34m:\u001b[0m\u001b[0;34m\u001b[0m\u001b[0m\n\u001b[1;32m    100\u001b[0m             \u001b[0mflags\u001b[0m \u001b[0;34m|=\u001b[0m \u001b[0mh5f\u001b[0m\u001b[0;34m.\u001b[0m\u001b[0mACC_SWMR_READ\u001b[0m\u001b[0;34m\u001b[0m\u001b[0m\n\u001b[0;32m--> 101\u001b[0;31m         \u001b[0mfid\u001b[0m \u001b[0;34m=\u001b[0m \u001b[0mh5f\u001b[0m\u001b[0;34m.\u001b[0m\u001b[0mopen\u001b[0m\u001b[0;34m(\u001b[0m\u001b[0mname\u001b[0m\u001b[0;34m,\u001b[0m \u001b[0mflags\u001b[0m\u001b[0;34m,\u001b[0m \u001b[0mfapl\u001b[0m\u001b[0;34m=\u001b[0m\u001b[0mfapl\u001b[0m\u001b[0;34m)\u001b[0m\u001b[0;34m\u001b[0m\u001b[0m\n\u001b[0m\u001b[1;32m    102\u001b[0m     \u001b[0;32melif\u001b[0m \u001b[0mmode\u001b[0m \u001b[0;34m==\u001b[0m \u001b[0;34m'r+'\u001b[0m\u001b[0;34m:\u001b[0m\u001b[0;34m\u001b[0m\u001b[0m\n\u001b[1;32m    103\u001b[0m         \u001b[0mfid\u001b[0m \u001b[0;34m=\u001b[0m \u001b[0mh5f\u001b[0m\u001b[0;34m.\u001b[0m\u001b[0mopen\u001b[0m\u001b[0;34m(\u001b[0m\u001b[0mname\u001b[0m\u001b[0;34m,\u001b[0m \u001b[0mh5f\u001b[0m\u001b[0;34m.\u001b[0m\u001b[0mACC_RDWR\u001b[0m\u001b[0;34m,\u001b[0m \u001b[0mfapl\u001b[0m\u001b[0;34m=\u001b[0m\u001b[0mfapl\u001b[0m\u001b[0;34m)\u001b[0m\u001b[0;34m\u001b[0m\u001b[0m\n",
      "\u001b[0;32mh5py/_objects.pyx\u001b[0m in \u001b[0;36mh5py._objects.with_phil.wrapper (/Users/ilan/minonda/conda-bld/h5py_1490026960179/work/h5py/_objects.c:2846)\u001b[0;34m()\u001b[0m\n",
      "\u001b[0;32mh5py/_objects.pyx\u001b[0m in \u001b[0;36mh5py._objects.with_phil.wrapper (/Users/ilan/minonda/conda-bld/h5py_1490026960179/work/h5py/_objects.c:2804)\u001b[0;34m()\u001b[0m\n",
      "\u001b[0;32mh5py/h5f.pyx\u001b[0m in \u001b[0;36mh5py.h5f.open (/Users/ilan/minonda/conda-bld/h5py_1490026960179/work/h5py/h5f.c:2123)\u001b[0;34m()\u001b[0m\n",
      "\u001b[0;31mOSError\u001b[0m: Unable to open file (Unable to open file: name = 'data/n2/on_food/xx/30m_wait/r/tracker_3/2010-11-04___11_16_00/n2 on food l_2010_11_04__11_16___3___3_features.mat', errno = 2, error message = 'no such file or directory', flags = 0, o_flags = 0)"
     ]
    }
   ],
   "source": [
    "# Create file_names\n",
    "worm_files_out = np.asarray([None]*len(worm_files))\n",
    "for ii, myfile in enumerate(worm_files):\n",
    "    f = h5py.File(os.path.join(dir_dataraw,myfile),'r')\n",
    "    worm_files_out[ii] =re.sub('/','--',myfile.strip())\n",
    "    print('{}'.format(worm_files_out[ii]))"
   ]
  },
  {
   "cell_type": "code",
   "execution_count": 8,
   "metadata": {},
   "outputs": [
    {
     "name": "stdout",
     "output_type": "stream",
     "text": [
      "Loading /data/home/ekellbuch/andrebrown/raw/N2/on_food/XX/30m_wait/R/tracker_3/2010-11-04___11_16_00/N2 on food L_2010_11_04__11_16___3___3_features.mat\n",
      "File\n",
      "/home/ekellbuch/Projects/behworm/arhmm-celegans/results_strains/N2--on_food--XX--30m_wait--R--tracker_3--2010-11-04___11_16_00--N2 on food L_2010_11_04__11_16___3___3_features/pdata.npz\n",
      "already exists!\n",
      "\n",
      "Loading /data/home/ekellbuch/andrebrown/raw/N2/on_food/XX/30m_wait/R/tracker_3/2010-10-15___11_45_00/N2 on food L_2010_10_15__11_45___3___3_features.mat\n",
      "File\n",
      "/home/ekellbuch/Projects/behworm/arhmm-celegans/results_strains/N2--on_food--XX--30m_wait--R--tracker_3--2010-10-15___11_45_00--N2 on food L_2010_10_15__11_45___3___3_features/pdata.npz\n",
      "already exists!\n",
      "\n",
      "Loading /data/home/ekellbuch/andrebrown/raw/N2/on_food/XX/30m_wait/R/tracker_2/2011-04-13___11_19_12/N2 on food L_2011_04_13__11_19_12___2___3_features.mat\n",
      "File\n",
      "/home/ekellbuch/Projects/behworm/arhmm-celegans/results_strains/N2--on_food--XX--30m_wait--R--tracker_2--2011-04-13___11_19_12--N2 on food L_2011_04_13__11_19_12___2___3_features/pdata.npz\n",
      "already exists!\n",
      "\n",
      "Loading /data/home/ekellbuch/andrebrown/raw/N2/on_food/XX/30m_wait/R/tracker_2/2011-03-24___12_42_49/N2 on food_2011_03_24__12_42_49___2___2_features.mat\n",
      "File\n",
      "/home/ekellbuch/Projects/behworm/arhmm-celegans/results_strains/N2--on_food--XX--30m_wait--R--tracker_2--2011-03-24___12_42_49--N2 on food_2011_03_24__12_42_49___2___2_features/pdata.npz\n",
      "already exists!\n",
      "\n",
      "Loading /data/home/ekellbuch/andrebrown/raw/N2/on_food/XX/30m_wait/R/tracker_2/2010-10-15___14_57_14/N2 on food L_2010_10_15__14_57_14___2___8_features.mat\n",
      "File\n",
      "/home/ekellbuch/Projects/behworm/arhmm-celegans/results_strains/N2--on_food--XX--30m_wait--R--tracker_2--2010-10-15___14_57_14--N2 on food L_2010_10_15__14_57_14___2___8_features/pdata.npz\n",
      "already exists!\n",
      "\n",
      "Loading /data/home/ekellbuch/andrebrown/raw/N2/on_food/XX/30m_wait/R/tracker_2/2010-10-15___13_03_39/N2 on food L_2010_10_15__13_03_39___2___7_features.mat\n",
      "File\n",
      "/home/ekellbuch/Projects/behworm/arhmm-celegans/results_strains/N2--on_food--XX--30m_wait--R--tracker_2--2010-10-15___13_03_39--N2 on food L_2010_10_15__13_03_39___2___7_features/pdata.npz\n",
      "already exists!\n",
      "\n",
      "Loading /data/home/ekellbuch/andrebrown/raw/N2/on_food/XX/30m_wait/R/tracker_2/2010-10-15___12_25_23/N2 on food L_2010_10_15__12_25_23___2___5_features.mat\n",
      "File\n",
      "/home/ekellbuch/Projects/behworm/arhmm-celegans/results_strains/N2--on_food--XX--30m_wait--R--tracker_2--2010-10-15___12_25_23--N2 on food L_2010_10_15__12_25_23___2___5_features/pdata.npz\n",
      "already exists!\n",
      "\n",
      "Loading /data/home/ekellbuch/andrebrown/raw/N2/on_food/XX/30m_wait/R/tracker_2/2010-10-15___11_25_26/N2 on food L_2010_10_15__11_25_26___2___2_features.mat\n",
      "File\n",
      "/home/ekellbuch/Projects/behworm/arhmm-celegans/results_strains/N2--on_food--XX--30m_wait--R--tracker_2--2010-10-15___11_25_26--N2 on food L_2010_10_15__11_25_26___2___2_features/pdata.npz\n",
      "already exists!\n",
      "\n",
      "Loading /data/home/ekellbuch/andrebrown/raw/N2/on_food/XX/30m_wait/R/tracker_2/2010-08-05___10_45_05/N2 on food L_2010_08_05__10_45_05___2___1_features.mat\n",
      "File\n",
      "/home/ekellbuch/Projects/behworm/arhmm-celegans/results_strains/N2--on_food--XX--30m_wait--R--tracker_2--2010-08-05___10_45_05--N2 on food L_2010_08_05__10_45_05___2___1_features/pdata.npz\n",
      "already exists!\n",
      "\n"
     ]
    }
   ],
   "source": [
    "# Preprocess each worm\n",
    "# store output in worm_files_out\n",
    "aus =[]\n",
    "for ii in np.arange(len(worm_files)):\n",
    "    fname_in = os.path.join(dir_dataraw,worm_files[ii])\n",
    "    print('Loading {}'.format(fname_in))\n",
    "    fname_dout = os.path.join(dir_datastore,worm_files_out[ii][:-4])\n",
    "    au =  preworm.extract_worm(fname_in,fname_dout)\n",
    "    aus.append(au)"
   ]
  },
  {
   "cell_type": "markdown",
   "metadata": {},
   "source": [
    "# combine all nine worms in single file"
   ]
  },
  {
   "cell_type": "code",
   "execution_count": 9,
   "metadata": {},
   "outputs": [
    {
     "name": "stdout",
     "output_type": "stream",
     "text": [
      "File:\n",
      "/home/ekellbuch/Projects/behworm/arhmm-celegans/results_strains/extracted_aus_N2.npz\n",
      "already exists\n"
     ]
    }
   ],
   "source": [
    "# store all nine worms in single file\n",
    "fout = os.path.join(dir_datastore,'extracted_aus_'+strain_type+'.npz')\n",
    "if not os.path.isfile(fout):\n",
    "    aus_=np.concatenate(aus,axis=1)\n",
    "    time_frames = list(map(len,map(np.transpose,aus)))\n",
    "    np.savez(fout,aus=aus_, worm_files=worm_files,time_frames=time_frames)\n",
    "else:\n",
    "    print('File:\\n{}\\nalready exists'.format(fout))"
   ]
  }
 ],
 "metadata": {
  "kernelspec": {
   "display_name": "Python [Root]",
   "language": "python",
   "name": "Python [Root]"
  },
  "language_info": {
   "codemirror_mode": {
    "name": "ipython",
    "version": 3
   },
   "file_extension": ".py",
   "mimetype": "text/x-python",
   "name": "python",
   "nbconvert_exporter": "python",
   "pygments_lexer": "ipython3",
   "version": "3.5.3"
  }
 },
 "nbformat": 4,
 "nbformat_minor": 2
}
